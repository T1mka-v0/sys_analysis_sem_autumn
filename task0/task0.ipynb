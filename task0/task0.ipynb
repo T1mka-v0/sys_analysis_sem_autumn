{
 "cells": [
  {
   "cell_type": "code",
   "execution_count": 1,
   "id": "33e67f50",
   "metadata": {},
   "outputs": [],
   "source": [
    "import csv\n",
    "\n",
    "def edge_list_to_adjacency_matrix(csv_file_path: str) -> list[list[int]]:\n",
    "    \"\"\"\n",
    "    Преобразует граф из списка ребер в CSV-файле в матрицу смежности.\n",
    "\n",
    "    Args:\n",
    "      csv_file_path: Путь к файлу CSV, где каждая строка представляет ребро\n",
    "                     в виде двух вершин, разделенных запятой.\n",
    "\n",
    "    Returns:\n",
    "      Двумерный массив (список списков), представляющий матрицу смежности графа.\n",
    "    \"\"\"\n",
    "    edges = []\n",
    "    max_node = 0\n",
    "    \n",
    "    with open(csv_file_path, mode='r', newline='') as csv_file:\n",
    "        reader = csv.reader(csv_file)\n",
    "        for row in reader:\n",
    "            if not row:\n",
    "                continue\n",
    "            u, v = int(row[0]), int(row[1])\n",
    "            edges.append((u, v))\n",
    "            if u > max_node:\n",
    "                max_node = u\n",
    "            if v > max_node:\n",
    "                max_node = v\n",
    "            \n",
    "    size = max_node + 1\n",
    "    \n",
    "    adjacency_matrix = [[0] * size for _ in range(size)]\n",
    "    for u, v in edges:\n",
    "        adjacency_matrix[u][v] = 1\n",
    "        adjacency_matrix[v][u] = 1\n",
    "        \n",
    "    return adjacency_matrix"
   ]
  },
  {
   "cell_type": "code",
   "execution_count": null,
   "id": "7072ac33",
   "metadata": {},
   "outputs": [
    {
     "name": "stdout",
     "output_type": "stream",
     "text": [
      "[0, 0, 0, 0, 0, 0]\n",
      "[0, 0, 1, 1, 0, 0]\n",
      "[0, 1, 0, 0, 0, 0]\n",
      "[0, 1, 0, 0, 1, 1]\n",
      "[0, 0, 0, 1, 0, 0]\n",
      "[0, 0, 0, 1, 0, 0]\n"
     ]
    }
   ],
   "source": [
    "file_name = 'task2.csv'\n",
    "try:\n",
    "    matrix = edge_list_to_adjacency_matrix(file_name)\n",
    "    \n",
    "    for row in matrix:\n",
    "        print(row)\n",
    "        \n",
    "except Exception as e:\n",
    "    print(f'Произошла ошибка: {e}')"
   ]
  }
 ],
 "metadata": {
  "kernelspec": {
   "display_name": "Python 3",
   "language": "python",
   "name": "python3"
  },
  "language_info": {
   "codemirror_mode": {
    "name": "ipython",
    "version": 3
   },
   "file_extension": ".py",
   "mimetype": "text/x-python",
   "name": "python",
   "nbconvert_exporter": "python",
   "pygments_lexer": "ipython3",
   "version": "3.13.5"
  }
 },
 "nbformat": 4,
 "nbformat_minor": 5
}
